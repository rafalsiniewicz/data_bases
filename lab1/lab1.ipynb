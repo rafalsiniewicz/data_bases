{
 "cells": [
  {
   "cell_type": "code",
   "execution_count": 6,
   "metadata": {},
   "outputs": [],
   "source": [
    "import math\n",
    "k = 1240 * math.sqrt(7)\n",
    "m = 4467\n",
    "l = complex(2j)\n",
    "d = k+m\n",
    "c = d+l"
   ]
  },
  {
   "cell_type": "code",
   "execution_count": null,
   "metadata": {},
   "outputs": [],
   "source": [
    "# exercise 1"
   ]
  },
  {
   "cell_type": "code",
   "execution_count": 5,
   "metadata": {},
   "outputs": [
    {
     "name": "stdout",
     "output_type": "stream",
     "text": [
      "3280.7316257200923\n",
      "4467\n",
      "2j\n",
      "7747.731625720093\n",
      "(7747.731625720093+2j)\n"
     ]
    }
   ],
   "source": [
    "print(k)\n",
    "print(m)\n",
    "print(l)\n",
    "print(d)\n",
    "print(c)"
   ]
  },
  {
   "cell_type": "code",
   "execution_count": null,
   "metadata": {},
   "outputs": [],
   "source": [
    "# exercise 2"
   ]
  },
  {
   "cell_type": "markdown",
   "metadata": {},
   "source": [
    "print(d)\n",
    "print(\"%.3f\" % d)\n",
    "print(\"%.20f\" % d)"
   ]
  },
  {
   "cell_type": "code",
   "execution_count": null,
   "metadata": {},
   "outputs": [],
   "source": [
    "# exercise 3"
   ]
  },
  {
   "cell_type": "code",
   "execution_count": 9,
   "metadata": {},
   "outputs": [
    {
     "name": "stdout",
     "output_type": "stream",
     "text": [
      "29961.369137285856\n"
     ]
    }
   ],
   "source": [
    "r = 17\n",
    "h = 33\n",
    "S = math.pi * math.pow(r,2) * h\n",
    "print(S)"
   ]
  },
  {
   "cell_type": "code",
   "execution_count": null,
   "metadata": {},
   "outputs": [],
   "source": [
    "# exercise 5"
   ]
  },
  {
   "cell_type": "code",
   "execution_count": 10,
   "metadata": {},
   "outputs": [
    {
     "name": "stdout",
     "output_type": "stream",
     "text": [
      "0.0\n"
     ]
    }
   ],
   "source": [
    "x1 = 0\n",
    "t = 0\n",
    "r = 0\n",
    "B = ((x1 + r) / (r * math.sin(2 * x1) + 3.3456) ) * pow(x1,t*r)\n",
    "print(B)\n"
   ]
  },
  {
   "cell_type": "code",
   "execution_count": null,
   "metadata": {},
   "outputs": [],
   "source": [
    "# exercise 6"
   ]
  },
  {
   "cell_type": "code",
   "execution_count": 11,
   "metadata": {},
   "outputs": [
    {
     "name": "stdout",
     "output_type": "stream",
     "text": [
      "Matrix:\n",
      " [[ 1.41421356  1.         -1.41421356]\n",
      " [ 0.          1.          1.        ]\n",
      " [-1.41421356  1.41421356  1.        ]]\n"
     ]
    }
   ],
   "source": [
    "import numpy as np # keyword \"as\" created the alias of the package  \n",
    "a = math.sqrt(2)\n",
    "M = np.array([[a,1,-a],[0,1,1], [-a,a,1]])\n",
    "print(\"Matrix:\\n {0}\".format(M))"
   ]
  },
  {
   "cell_type": "code",
   "execution_count": null,
   "metadata": {},
   "outputs": [],
   "source": [
    "# exercise 6"
   ]
  },
  {
   "cell_type": "code",
   "execution_count": 13,
   "metadata": {},
   "outputs": [
    {
     "name": "stdout",
     "output_type": "stream",
     "text": [
      "Element 1x1 1.4142135623730951\n",
      "Element 3x3 1.0\n",
      "Element 3x2 1.4142135623730951\n"
     ]
    }
   ],
   "source": [
    "print(\"Element 1x1 {0}\".format(M[0,0]))\n",
    "print(\"Element 3x3 {0}\".format(M[2,2]))\n",
    "print(\"Element 3x2 {0}\".format(M[2,1]))"
   ]
  },
  {
   "cell_type": "code",
   "execution_count": 17,
   "metadata": {},
   "outputs": [
    {
     "name": "stdout",
     "output_type": "stream",
     "text": [
      "w1:\n",
      " [-1.41421356  1.          1.        ]\n",
      "w2:\n",
      " [0. 1. 1.]\n"
     ]
    }
   ],
   "source": [
    "# get third column\n",
    "w1 = M[:,2]\n",
    "# get second row \n",
    "w2 = M[1,:]\n",
    "print(\"w1:\\n {0}\".format(w1))\n",
    "print(\"w2:\\n {0}\".format(w2))"
   ]
  },
  {
   "cell_type": "code",
   "execution_count": null,
   "metadata": {},
   "outputs": [],
   "source": [
    "# exercise 7"
   ]
  },
  {
   "cell_type": "code",
   "execution_count": 20,
   "metadata": {},
   "outputs": [
    {
     "name": "stdout",
     "output_type": "stream",
     "text": [
      "[1, -7, -3, -43, -28, -60]\n"
     ]
    }
   ],
   "source": [
    "W = [1,-7,-3,-43,-28,-60]\n",
    "roots = np.roots(W)\n",
    "print(W)"
   ]
  },
  {
   "cell_type": "code",
   "execution_count": null,
   "metadata": {},
   "outputs": [],
   "source": [
    "# exercise 8"
   ]
  },
  {
   "cell_type": "code",
   "execution_count": 24,
   "metadata": {},
   "outputs": [
    {
     "name": "stdout",
     "output_type": "stream",
     "text": [
      "[1.5 4.5 7.5]\n"
     ]
    }
   ],
   "source": [
    "gen_str = np.arange(1.5,10.3,3)\n",
    "print(gen_str)"
   ]
  },
  {
   "cell_type": "code",
   "execution_count": 27,
   "metadata": {},
   "outputs": [
    {
     "name": "stdout",
     "output_type": "stream",
     "text": [
      "[ 1.5  3.7  5.9  8.1 10.3]\n"
     ]
    }
   ],
   "source": [
    "gen_str = np.linspace(1.5,10.3,5)\n",
    "print(gen_str)"
   ]
  },
  {
   "cell_type": "code",
   "execution_count": 28,
   "metadata": {},
   "outputs": [],
   "source": [
    "# exercise 9"
   ]
  },
  {
   "cell_type": "code",
   "execution_count": 29,
   "metadata": {},
   "outputs": [],
   "source": [
    "def fun1(x):\n",
    "    return x**3-3*x"
   ]
  },
  {
   "cell_type": "code",
   "execution_count": 30,
   "metadata": {},
   "outputs": [
    {
     "data": {
      "image/png": "[encoded data removed]",
      "text/plain": [
       "<Figure size 432x288 with 1 Axes>"
      ]
     },
     "metadata": {
      "needs_background": "light"
     },
     "output_type": "display_data"
    }
   ],
   "source": [
    "import matplotlib.pyplot as plt\n",
    "#1\n",
    "x = np.linspace(-1,1)\n",
    "y = fun1(x)   \n",
    "plt.plot(x, y)\n",
    "plt.title('Example chart')\n",
    "plt.xlabel('x')\n",
    "plt.ylabel('y')\n",
    "plt.legend('Chart 1')\n",
    "plt.show()"
   ]
  },
  {
   "cell_type": "code",
   "execution_count": 31,
   "metadata": {},
   "outputs": [
    {
     "data": {
      "image/png": "[encoded data removed]",
      "text/plain": [
       "<Figure size 432x288 with 1 Axes>"
      ]
     },
     "metadata": {
      "needs_background": "light"
     },
     "output_type": "display_data"
    }
   ],
   "source": [
    "#2\n",
    "x = np.linspace(-5,5)\n",
    "y = fun1(x)   \n",
    "plt.plot(x, y)\n",
    "plt.title('Example chart')\n",
    "plt.xlabel('x')\n",
    "plt.ylabel('y')\n",
    "plt.legend('Chart 1')\n",
    "plt.show()"
   ]
  },
  {
   "cell_type": "code",
   "execution_count": 32,
   "metadata": {},
   "outputs": [
    {
     "data": {
      "image/png": "[encoded data removed]",
      "text/plain": [
       "<Figure size 432x288 with 1 Axes>"
      ]
     },
     "metadata": {
      "needs_background": "light"
     },
     "output_type": "display_data"
    }
   ],
   "source": [
    "#3\n",
    "x = np.linspace(0,5)\n",
    "y = fun1(x)   \n",
    "plt.plot(x, y)\n",
    "plt.title('Example chart')\n",
    "plt.xlabel('x')\n",
    "plt.ylabel('y')\n",
    "plt.legend('Chart 1')\n",
    "plt.show()"
   ]
  },
  {
   "cell_type": "code",
   "execution_count": null,
   "metadata": {},
   "outputs": [],
   "source": [
    "#exercise 10"
   ]
  },
  {
   "cell_type": "code",
   "execution_count": 34,
   "metadata": {},
   "outputs": [
    {
     "name": "stdout",
     "output_type": "stream",
     "text": [
      "4500.0 J\n"
     ]
    }
   ],
   "source": [
    "m = 2.5\n",
    "v = 60\n",
    "Q = ( m * v**2)/2\n",
    "print(Q, \"J\")"
   ]
  },
  {
   "cell_type": "code",
   "execution_count": 48,
   "metadata": {},
   "outputs": [
    {
     "data": {
      "image/png": "[encoded data removed]",
      "text/plain": [
       "<Figure size 432x288 with 1 Axes>"
      ]
     },
     "metadata": {
      "needs_background": "light"
     },
     "output_type": "display_data"
    },
    {
     "data": {
      "image/png": "[encoded data removed]",
      "text/plain": [
       "<Figure size 432x288 with 1 Axes>"
      ]
     },
     "metadata": {
      "needs_background": "light"
     },
     "output_type": "display_data"
    }
   ],
   "source": [
    "def Q(m,v):\n",
    "    return ( m * v**2)/2\n",
    "m = 3\n",
    "v = np.linspace(0,200)\n",
    "plt.plot(v, Q(m,v))\n",
    "plt.title('Example chart')\n",
    "plt.xlabel('v')\n",
    "plt.ylabel('Q')\n",
    "plt.legend('Chart 1')\n",
    "plt.show()\n",
    "\n",
    "plt.plot(Q(m,v), color='blue')\n",
    "plt.yscale('log')\n",
    "plt.xlabel('v')\n",
    "plt.ylabel('Q')\n",
    "plt.show()"
   ]
  },
  {
   "cell_type": "code",
   "execution_count": null,
   "metadata": {},
   "outputs": [],
   "source": [
    "#exercise 11"
   ]
  },
  {
   "cell_type": "code",
   "execution_count": 56,
   "metadata": {},
   "outputs": [
    {
     "name": "stdout",
     "output_type": "stream",
     "text": [
      "Quaternion: 1+2i+3j+4k\n",
      "Quaternion: 6+5i+5j+11k\n",
      "Quaternion: -4+-1i+1j+-3k\n",
      "Quaternion: -35+26i+15j+22k\n"
     ]
    }
   ],
   "source": [
    "class Quaternion:\n",
    "    def __init__(self, a,b,c,d):\n",
    "        self.a = a\n",
    "        self.b = b\n",
    "        self.c = c\n",
    "        self.d = d\n",
    "        \n",
    "    def __str__(self):\n",
    "        return 'Quaternion: {0}+{1}i+{2}j+{3}k'.format(self.a, self.b, self.c, self.d)\n",
    "    def __add__(self, q):\n",
    "        return Quaternion( self.a + q.a, self.b + q.b, self.c + q.c, self.d + q.d)\n",
    "    def __sub__(self, q):\n",
    "        return Quaternion( self.a - q.a, self.b - q.b, self.c - q.c, self.d - q.d)\n",
    "    def __mul__(self, q):\n",
    "        return Quaternion( self.a * q.a - self.b * q.b - self.c * q.c - self.d * q.d, self.b * q.a + self.a * q.b + self.c * q.d - self.d * q.c, self.a * q.c - self.b * q.d +self.c * q.a + self.d * q.b, self.a * q.d + self.b * q.c - self.c * q.b + self.d * q.a)\n",
    "\n",
    "q = Quaternion(1,2,3,4)\n",
    "q2 = Quaternion(5,3,2,7)\n",
    "print(q)\n",
    "print(q+q2)\n",
    "print(q-q2)\n",
    "print(q*q2)"
   ]
  },
  {
   "cell_type": "code",
   "execution_count": null,
   "metadata": {},
   "outputs": [],
   "source": []
  }
 ],
 "metadata": {
  "kernelspec": {
   "display_name": "Python 3",
   "language": "python",
   "name": "python3"
  },
  "language_info": {
   "codemirror_mode": {
    "name": "ipython",
    "version": 3
   },
   "file_extension": ".py",
   "mimetype": "text/x-python",
   "name": "python",
   "nbconvert_exporter": "python",
   "pygments_lexer": "ipython3",
   "version": "3.8.2"
  }
 },
 "nbformat": 4,
 "nbformat_minor": 4
}
